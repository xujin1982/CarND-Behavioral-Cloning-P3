{
 "cells": [
  {
   "cell_type": "code",
   "execution_count": 1,
   "metadata": {},
   "outputs": [
    {
     "name": "stderr",
     "output_type": "stream",
     "text": [
      "Using TensorFlow backend.\n"
     ]
    }
   ],
   "source": [
    "import csv\n",
    "import cv2\n",
    "import numpy as np\n",
    "import sklearn\n",
    "from random import shuffle\n",
    "\n",
    "from keras.models import Sequential, Model\n",
    "from keras.layers import Flatten, Dense, Lambda, Dropout\n",
    "from keras.layers.convolutional import Convolution2D, Cropping2D\n",
    "from keras.layers.pooling import MaxPooling2D\n",
    "from keras.regularizers import l2\n",
    "\n",
    "import matplotlib.pyplot as plt"
   ]
  },
  {
   "cell_type": "code",
   "execution_count": 2,
   "metadata": {
    "collapsed": true
   },
   "outputs": [],
   "source": [
    "samples = []\n",
    "\n",
    "# Load Sample Training Data, 8000+ images\n",
    "with open('../data/driving_log.csv') as csvfile:\n",
    "    reader = csv.reader(csvfile)\n",
    "    for line in reader:\n",
    "        samples.append(line)\n",
    "\n",
    "# Load New Training Data, 4000+ inmages, 2 laps of Tracks 1 in clockwise direction and 2 laps of Tracks 1 in counter-clockwise direction\n",
    "with open('../new/driving_log.csv') as csvfile:\n",
    "    reader = csv.reader(csvfile)\n",
    "    for line in reader:\n",
    "        samples.append(line)\n",
    "        \n",
    "from sklearn.model_selection import train_test_split\n",
    "train_samples, validation_samples = train_test_split(samples[1:], test_size=0.3)"
   ]
  },
  {
   "cell_type": "code",
   "execution_count": 3,
   "metadata": {
    "collapsed": true
   },
   "outputs": [],
   "source": [
    "def generator(samples, batch_size=32):\n",
    "    num_samples = len(samples)\n",
    "    while 1: # Loop forever so the generator never terminates\n",
    "        shuffle(samples)\n",
    "        for offset in range(0, num_samples, batch_size):\n",
    "            batch_samples = samples[offset:offset+batch_size]\n",
    "\n",
    "            images = []\n",
    "            angles = []\n",
    "            \n",
    "            for batch_sample in batch_samples:\n",
    "                # create adjusted steering measurements for the side camera images\n",
    "                correction = 0.2 # this is a parameter to tune\n",
    "                angle = [float(batch_sample[3])]\n",
    "                angle.append(angle[0] + correction)\n",
    "                angle.append(angle[0] - correction)\n",
    "                \n",
    "                # read in images from center, left and right cameras\n",
    "                for i in range(3):\n",
    "                    name = '../data/IMG/'+batch_sample[i].split('/')[-1]\n",
    "                    image = cv2.imread(name)                    \n",
    "                    images.append(image)\n",
    "                    angles.append(angle[i])\n",
    "                    images.append(np.fliplr(image))\n",
    "                    angles.append(-angle[i])\n",
    "\n",
    "            # add images and angles to data set\n",
    "            X_train = np.array(images)\n",
    "            y_train = np.array(angles)\n",
    "            yield sklearn.utils.shuffle(X_train, y_train)"
   ]
  },
  {
   "cell_type": "code",
   "execution_count": 4,
   "metadata": {
    "collapsed": true
   },
   "outputs": [],
   "source": [
    "# compile and train the model using the generator function\n",
    "train_generator = generator(train_samples, batch_size=32)\n",
    "validation_generator = generator(validation_samples, batch_size=32)"
   ]
  },
  {
   "cell_type": "code",
   "execution_count": 5,
   "metadata": {
    "collapsed": true
   },
   "outputs": [],
   "source": [
    "model = Sequential()\n",
    "\n",
    "# Input planes 3@160x320\n",
    "# Normalized input planes\n",
    "model.add(Lambda(lambda x: x / 255.0 - 0.5, input_shape=(160,320,3)))\n",
    "\n",
    "# Cropping images, trim image to only see section with road\n",
    "# Cropped planes 3@85x320\n",
    "model.add(Cropping2D(cropping=((50,25),(0,0))))\n",
    "\n",
    "# Convolutional feature map 24@41x158\n",
    "model.add(Convolution2D(24,5,5,subsample=(2,2),activation='relu'))\n",
    "model.add(Dropout(0.5))\n",
    "\n",
    "# Convolutional feature map 36@19x77\n",
    "model.add(Convolution2D(36,5,5,subsample=(2,2),activation='relu'))\n",
    "model.add(Dropout(0.5))\n",
    "\n",
    "# Convolutional feature map 48@8x37\n",
    "model.add(Convolution2D(48,5,5,subsample=(2,2),activation='relu'))\n",
    "model.add(Dropout(0.4))\n",
    "\n",
    "# Convolutional feature map 64@6x35\n",
    "model.add(Convolution2D(64,3,3,activation='relu'))\n",
    "model.add(Dropout(0.3))\n",
    "\n",
    "# Convolutional feature map 64@4x33\n",
    "model.add(Convolution2D(64,3,3,activation='relu'))\n",
    "model.add(Dropout(0.3))\n",
    "\n",
    "# Fully-connected layer, 8448 neurons\n",
    "model.add(Flatten())\n",
    "model.add(Dropout(0.3))\n",
    "\n",
    "# Fully-connected layer, 100 neurons\n",
    "model.add(Dense(100))\n",
    "model.add(Dropout(0.2))\n",
    "\n",
    "# Fully-connected layer, 50 neurons\n",
    "model.add(Dense(50))\n",
    "model.add(Dropout(0.2))\n",
    "\n",
    "# Fully-connected layer, 10 neurons\n",
    "model.add(Dense(10))\n",
    "model.add(Dropout(0.2))\n",
    "\n",
    "# Output: vehicle control\n",
    "model.add(Dense(1))"
   ]
  },
  {
   "cell_type": "code",
   "execution_count": 6,
   "metadata": {},
   "outputs": [
    {
     "name": "stdout",
     "output_type": "stream",
     "text": [
      "Epoch 1/8\n",
      "53304/53304 [==============================] - 154s - loss: 0.0429 - val_loss: 0.0412\n",
      "Epoch 2/8\n",
      "53304/53304 [==============================] - 150s - loss: 0.0405 - val_loss: 0.0298\n",
      "Epoch 3/8\n",
      "53304/53304 [==============================] - 150s - loss: 0.0230 - val_loss: 0.0225\n",
      "Epoch 4/8\n",
      "53304/53304 [==============================] - 150s - loss: 0.0212 - val_loss: 0.0184\n",
      "Epoch 5/8\n",
      "53304/53304 [==============================] - 150s - loss: 0.0206 - val_loss: 0.0204\n",
      "Epoch 6/8\n",
      "53304/53304 [==============================] - 151s - loss: 0.0201 - val_loss: 0.0217\n",
      "Epoch 7/8\n",
      "53304/53304 [==============================] - 150s - loss: 0.0194 - val_loss: 0.0207\n",
      "Epoch 8/8\n",
      "53304/53304 [==============================] - 150s - loss: 0.0190 - val_loss: 0.0190\n",
      "dict_keys(['val_loss', 'loss'])\n"
     ]
    },
    {
     "data": {
      "image/png": "[encoded data removed]",
      "text/plain": [
       "<matplotlib.figure.Figure at 0x7f4152f22cc0>"
      ]
     },
     "metadata": {},
     "output_type": "display_data"
    }
   ],
   "source": [
    "model.compile(loss='mse', optimizer='adam')\n",
    "history_object = model.fit_generator(train_generator, \n",
    "                                     samples_per_epoch =len(train_samples)*6, \n",
    "                                     validation_data = validation_generator,\n",
    "                                     nb_val_samples = len(validation_samples)*6, \n",
    "                                     nb_epoch=8, verbose=1)\n",
    "\n",
    "### print the keys contained in the history object\n",
    "print(history_object.history.keys())\n",
    "\n",
    "### plot the training and validation loss for each epoch\n",
    "plt.plot(history_object.history['loss'])\n",
    "plt.plot(history_object.history['val_loss'])\n",
    "plt.title('model mean squared error loss')\n",
    "plt.ylabel('mean squared error loss')\n",
    "plt.xlabel('epoch')\n",
    "plt.legend(['training set', 'validation set'], loc='upper right')\n",
    "plt.show()"
   ]
  },
  {
   "cell_type": "code",
   "execution_count": 7,
   "metadata": {
    "collapsed": true
   },
   "outputs": [],
   "source": [
    "model.save('../model.h5')"
   ]
  },
  {
   "cell_type": "code",
   "execution_count": null,
   "metadata": {
    "collapsed": true
   },
   "outputs": [],
   "source": []
  }
 ],
 "metadata": {
  "kernelspec": {
   "display_name": "Python 3",
   "language": "python",
   "name": "python3"
  },
  "language_info": {
   "codemirror_mode": {
    "name": "ipython",
    "version": 3
   },
   "file_extension": ".py",
   "mimetype": "text/x-python",
   "name": "python",
   "nbconvert_exporter": "python",
   "pygments_lexer": "ipython3",
   "version": "3.5.2"
  },
  "widgets": {
   "state": {},
   "version": "1.1.2"
  }
 },
 "nbformat": 4,
 "nbformat_minor": 2
}
